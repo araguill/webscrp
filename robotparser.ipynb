{
 "cells": [
  {
   "cell_type": "code",
   "execution_count": 286,
   "metadata": {
    "collapsed": false
   },
   "outputs": [],
   "source": [
    "from urllib.request import urlopen\n",
    "import urllib.robotparser\n",
    "\n",
    "\n",
    "def splitAddress(address):\n",
    "    addressParts = address.replace(\"http://\",\"\").split(\"/\")\n",
    "    return addressParts\n",
    "\n",
    "def robey(url):\n",
    "    root = splitAddress(url)[0]\n",
    "    url = url.replace(\"http://\",\"\")\n",
    "    url = url.replace(\"https://\", \"\")\n",
    "    url = \"https://\"+url\n",
    "    parser = urllib.robotparser.RobotFileParser()\n",
    "    parser.set_url(\"http://\"+root+\"/robots.txt\")\n",
    "    parser.read()\n",
    "    print (\"http://\"+root+\"/robots.txt\")\n",
    "    try: \n",
    "        html = urlopen(\"http://\"+(root)+\"/robots.txt\")\n",
    "        if parser.can_fetch(\"*\", url) == False:\n",
    "            return False\n",
    "        \n",
    "        elif parser.can_fetch(\"*\", (url+\"/\")) == False:\n",
    "            return False\n",
    "\n",
    "        elif parser.can_fetch(\"*\", (url[0:len(url)-1])) == False:\n",
    "            return False\n",
    "\n",
    "        else: \n",
    "            return True\n",
    "        \n",
    "\n",
    "    except HTTPError as e:\n",
    "        print (e)\n",
    " \n",
    "   "
   ]
  },
  {
   "cell_type": "code",
   "execution_count": 287,
   "metadata": {
    "collapsed": false,
    "scrolled": true
   },
   "outputs": [
    {
     "name": "stdout",
     "output_type": "stream",
     "text": [
      "http://en.wikipedia.org/robots.txt\n"
     ]
    },
    {
     "data": {
      "text/plain": [
       "True"
      ]
     },
     "execution_count": 287,
     "metadata": {},
     "output_type": "execute_result"
    }
   ],
   "source": [
    "robey(\"http://en.wikipedia.org/wiki/Kevin_Bacon\")"
   ]
  },
  {
   "cell_type": "code",
   "execution_count": 288,
   "metadata": {
    "collapsed": false
   },
   "outputs": [
    {
     "name": "stdout",
     "output_type": "stream",
     "text": [
      "http://en.wikipedia.org/robots.txt\n"
     ]
    },
    {
     "data": {
      "text/plain": [
       "False"
      ]
     },
     "execution_count": 288,
     "metadata": {},
     "output_type": "execute_result"
    }
   ],
   "source": [
    "robey(\"http://en.wikipedia.org/api/\")"
   ]
  },
 
